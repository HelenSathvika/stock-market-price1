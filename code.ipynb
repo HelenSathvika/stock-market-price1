{
 "cells": [
  {
   "cell_type": "markdown",
   "metadata": {},
   "source": [
    "# IMPORTING LIBRARIES"
   ]
  },
  {
   "cell_type": "code",
   "execution_count": 1,
   "metadata": {},
   "outputs": [],
   "source": [
    "import pandas as pd\n",
    "import numpy as np\n",
    "import matplotlib.pyplot as plt\n",
    "import sklearn\n",
    "import seaborn as sns\n",
    "from scipy import stats\n",
    "from sklearn.model_selection import train_test_split\n",
    "from sklearn.linear_model import LinearRegression\n",
    "from sklearn.tree import DecisionTreeRegressor\n",
    "from sklearn.ensemble import RandomForestRegressor\n",
    "import joblib"
   ]
  },
  {
   "cell_type": "code",
   "execution_count": 2,
   "metadata": {},
   "outputs": [],
   "source": [
    "#LOADING DATASET(CANON DATASET)"
   ]
  },
  {
   "cell_type": "code",
   "execution_count": 3,
   "metadata": {},
   "outputs": [
    {
     "data": {
      "text/html": [
       "<div>\n",
       "<style scoped>\n",
       "    .dataframe tbody tr th:only-of-type {\n",
       "        vertical-align: middle;\n",
       "    }\n",
       "\n",
       "    .dataframe tbody tr th {\n",
       "        vertical-align: top;\n",
       "    }\n",
       "\n",
       "    .dataframe thead th {\n",
       "        text-align: right;\n",
       "    }\n",
       "</style>\n",
       "<table border=\"1\" class=\"dataframe\">\n",
       "  <thead>\n",
       "    <tr style=\"text-align: right;\">\n",
       "      <th></th>\n",
       "      <th>Date</th>\n",
       "      <th>Open</th>\n",
       "      <th>High</th>\n",
       "      <th>Low</th>\n",
       "      <th>Close</th>\n",
       "      <th>Adj Close</th>\n",
       "      <th>Volume</th>\n",
       "    </tr>\n",
       "  </thead>\n",
       "  <tbody>\n",
       "    <tr>\n",
       "      <th>0</th>\n",
       "      <td>08-03-2021</td>\n",
       "      <td>21.730000</td>\n",
       "      <td>21.850000</td>\n",
       "      <td>21.629999</td>\n",
       "      <td>21.719999</td>\n",
       "      <td>21.719999</td>\n",
       "      <td>227500</td>\n",
       "    </tr>\n",
       "    <tr>\n",
       "      <th>1</th>\n",
       "      <td>09-03-2021</td>\n",
       "      <td>22.000000</td>\n",
       "      <td>22.080000</td>\n",
       "      <td>21.940001</td>\n",
       "      <td>22.020000</td>\n",
       "      <td>22.020000</td>\n",
       "      <td>254100</td>\n",
       "    </tr>\n",
       "    <tr>\n",
       "      <th>2</th>\n",
       "      <td>10-03-2021</td>\n",
       "      <td>21.940001</td>\n",
       "      <td>22.000000</td>\n",
       "      <td>21.770000</td>\n",
       "      <td>21.959999</td>\n",
       "      <td>21.959999</td>\n",
       "      <td>226200</td>\n",
       "    </tr>\n",
       "    <tr>\n",
       "      <th>3</th>\n",
       "      <td>11-03-2021</td>\n",
       "      <td>21.889999</td>\n",
       "      <td>21.940001</td>\n",
       "      <td>21.780001</td>\n",
       "      <td>21.910000</td>\n",
       "      <td>21.910000</td>\n",
       "      <td>123300</td>\n",
       "    </tr>\n",
       "    <tr>\n",
       "      <th>4</th>\n",
       "      <td>12-03-2021</td>\n",
       "      <td>21.590000</td>\n",
       "      <td>21.760000</td>\n",
       "      <td>21.510000</td>\n",
       "      <td>21.709999</td>\n",
       "      <td>21.709999</td>\n",
       "      <td>178300</td>\n",
       "    </tr>\n",
       "    <tr>\n",
       "      <th>...</th>\n",
       "      <td>...</td>\n",
       "      <td>...</td>\n",
       "      <td>...</td>\n",
       "      <td>...</td>\n",
       "      <td>...</td>\n",
       "      <td>...</td>\n",
       "      <td>...</td>\n",
       "    </tr>\n",
       "    <tr>\n",
       "      <th>247</th>\n",
       "      <td>28-02-2022</td>\n",
       "      <td>23.549999</td>\n",
       "      <td>23.680000</td>\n",
       "      <td>23.480000</td>\n",
       "      <td>23.629999</td>\n",
       "      <td>23.629999</td>\n",
       "      <td>247200</td>\n",
       "    </tr>\n",
       "    <tr>\n",
       "      <th>248</th>\n",
       "      <td>01-03-2022</td>\n",
       "      <td>23.480000</td>\n",
       "      <td>23.620001</td>\n",
       "      <td>23.170000</td>\n",
       "      <td>23.250000</td>\n",
       "      <td>23.250000</td>\n",
       "      <td>244900</td>\n",
       "    </tr>\n",
       "    <tr>\n",
       "      <th>249</th>\n",
       "      <td>02-03-2022</td>\n",
       "      <td>22.840000</td>\n",
       "      <td>22.990000</td>\n",
       "      <td>22.700001</td>\n",
       "      <td>22.959999</td>\n",
       "      <td>22.959999</td>\n",
       "      <td>358500</td>\n",
       "    </tr>\n",
       "    <tr>\n",
       "      <th>250</th>\n",
       "      <td>03-03-2022</td>\n",
       "      <td>23.020000</td>\n",
       "      <td>23.150000</td>\n",
       "      <td>22.830000</td>\n",
       "      <td>22.969999</td>\n",
       "      <td>22.969999</td>\n",
       "      <td>249100</td>\n",
       "    </tr>\n",
       "    <tr>\n",
       "      <th>251</th>\n",
       "      <td>04-03-2022</td>\n",
       "      <td>22.900000</td>\n",
       "      <td>23.030001</td>\n",
       "      <td>22.780001</td>\n",
       "      <td>22.870001</td>\n",
       "      <td>22.870001</td>\n",
       "      <td>234727</td>\n",
       "    </tr>\n",
       "  </tbody>\n",
       "</table>\n",
       "<p>252 rows × 7 columns</p>\n",
       "</div>"
      ],
      "text/plain": [
       "           Date       Open       High        Low      Close  Adj Close  Volume\n",
       "0    08-03-2021  21.730000  21.850000  21.629999  21.719999  21.719999  227500\n",
       "1    09-03-2021  22.000000  22.080000  21.940001  22.020000  22.020000  254100\n",
       "2    10-03-2021  21.940001  22.000000  21.770000  21.959999  21.959999  226200\n",
       "3    11-03-2021  21.889999  21.940001  21.780001  21.910000  21.910000  123300\n",
       "4    12-03-2021  21.590000  21.760000  21.510000  21.709999  21.709999  178300\n",
       "..          ...        ...        ...        ...        ...        ...     ...\n",
       "247  28-02-2022  23.549999  23.680000  23.480000  23.629999  23.629999  247200\n",
       "248  01-03-2022  23.480000  23.620001  23.170000  23.250000  23.250000  244900\n",
       "249  02-03-2022  22.840000  22.990000  22.700001  22.959999  22.959999  358500\n",
       "250  03-03-2022  23.020000  23.150000  22.830000  22.969999  22.969999  249100\n",
       "251  04-03-2022  22.900000  23.030001  22.780001  22.870001  22.870001  234727\n",
       "\n",
       "[252 rows x 7 columns]"
      ]
     },
     "execution_count": 3,
     "metadata": {},
     "output_type": "execute_result"
    }
   ],
   "source": [
    "dataset=pd.read_csv('datasetcanon.csv')\n",
    "dataset"
   ]
  },
  {
   "cell_type": "code",
   "execution_count": 4,
   "metadata": {},
   "outputs": [
    {
     "data": {
      "text/html": [
       "<div>\n",
       "<style scoped>\n",
       "    .dataframe tbody tr th:only-of-type {\n",
       "        vertical-align: middle;\n",
       "    }\n",
       "\n",
       "    .dataframe tbody tr th {\n",
       "        vertical-align: top;\n",
       "    }\n",
       "\n",
       "    .dataframe thead th {\n",
       "        text-align: right;\n",
       "    }\n",
       "</style>\n",
       "<table border=\"1\" class=\"dataframe\">\n",
       "  <thead>\n",
       "    <tr style=\"text-align: right;\">\n",
       "      <th></th>\n",
       "      <th>Open</th>\n",
       "      <th>High</th>\n",
       "      <th>Low</th>\n",
       "      <th>Close</th>\n",
       "      <th>Adj Close</th>\n",
       "      <th>Volume</th>\n",
       "    </tr>\n",
       "  </thead>\n",
       "  <tbody>\n",
       "    <tr>\n",
       "      <th>count</th>\n",
       "      <td>252.000000</td>\n",
       "      <td>252.000000</td>\n",
       "      <td>252.000000</td>\n",
       "      <td>252.000000</td>\n",
       "      <td>252.000000</td>\n",
       "      <td>2.520000e+02</td>\n",
       "    </tr>\n",
       "    <tr>\n",
       "      <th>mean</th>\n",
       "      <td>23.629960</td>\n",
       "      <td>23.761190</td>\n",
       "      <td>23.477698</td>\n",
       "      <td>23.618095</td>\n",
       "      <td>23.618095</td>\n",
       "      <td>2.914446e+05</td>\n",
       "    </tr>\n",
       "    <tr>\n",
       "      <th>std</th>\n",
       "      <td>0.837423</td>\n",
       "      <td>0.847946</td>\n",
       "      <td>0.838204</td>\n",
       "      <td>0.844666</td>\n",
       "      <td>0.844666</td>\n",
       "      <td>2.388592e+05</td>\n",
       "    </tr>\n",
       "    <tr>\n",
       "      <th>min</th>\n",
       "      <td>21.590000</td>\n",
       "      <td>21.760000</td>\n",
       "      <td>21.000000</td>\n",
       "      <td>21.540001</td>\n",
       "      <td>21.540001</td>\n",
       "      <td>1.091000e+05</td>\n",
       "    </tr>\n",
       "    <tr>\n",
       "      <th>25%</th>\n",
       "      <td>23.000000</td>\n",
       "      <td>23.165000</td>\n",
       "      <td>22.897500</td>\n",
       "      <td>22.990000</td>\n",
       "      <td>22.990000</td>\n",
       "      <td>1.773250e+05</td>\n",
       "    </tr>\n",
       "    <tr>\n",
       "      <th>50%</th>\n",
       "      <td>23.714999</td>\n",
       "      <td>23.850000</td>\n",
       "      <td>23.564999</td>\n",
       "      <td>23.714999</td>\n",
       "      <td>23.714999</td>\n",
       "      <td>2.344500e+05</td>\n",
       "    </tr>\n",
       "    <tr>\n",
       "      <th>75%</th>\n",
       "      <td>24.200001</td>\n",
       "      <td>24.420000</td>\n",
       "      <td>24.070000</td>\n",
       "      <td>24.212499</td>\n",
       "      <td>24.212499</td>\n",
       "      <td>3.150000e+05</td>\n",
       "    </tr>\n",
       "    <tr>\n",
       "      <th>max</th>\n",
       "      <td>25.440001</td>\n",
       "      <td>25.940001</td>\n",
       "      <td>25.240000</td>\n",
       "      <td>25.370001</td>\n",
       "      <td>25.370001</td>\n",
       "      <td>2.253800e+06</td>\n",
       "    </tr>\n",
       "  </tbody>\n",
       "</table>\n",
       "</div>"
      ],
      "text/plain": [
       "             Open        High         Low       Close   Adj Close  \\\n",
       "count  252.000000  252.000000  252.000000  252.000000  252.000000   \n",
       "mean    23.629960   23.761190   23.477698   23.618095   23.618095   \n",
       "std      0.837423    0.847946    0.838204    0.844666    0.844666   \n",
       "min     21.590000   21.760000   21.000000   21.540001   21.540001   \n",
       "25%     23.000000   23.165000   22.897500   22.990000   22.990000   \n",
       "50%     23.714999   23.850000   23.564999   23.714999   23.714999   \n",
       "75%     24.200001   24.420000   24.070000   24.212499   24.212499   \n",
       "max     25.440001   25.940001   25.240000   25.370001   25.370001   \n",
       "\n",
       "             Volume  \n",
       "count  2.520000e+02  \n",
       "mean   2.914446e+05  \n",
       "std    2.388592e+05  \n",
       "min    1.091000e+05  \n",
       "25%    1.773250e+05  \n",
       "50%    2.344500e+05  \n",
       "75%    3.150000e+05  \n",
       "max    2.253800e+06  "
      ]
     },
     "execution_count": 4,
     "metadata": {},
     "output_type": "execute_result"
    }
   ],
   "source": [
    "dataset.describe()"
   ]
  },
  {
   "cell_type": "code",
   "execution_count": 5,
   "metadata": {},
   "outputs": [
    {
     "data": {
      "text/html": [
       "<div>\n",
       "<style scoped>\n",
       "    .dataframe tbody tr th:only-of-type {\n",
       "        vertical-align: middle;\n",
       "    }\n",
       "\n",
       "    .dataframe tbody tr th {\n",
       "        vertical-align: top;\n",
       "    }\n",
       "\n",
       "    .dataframe thead th {\n",
       "        text-align: right;\n",
       "    }\n",
       "</style>\n",
       "<table border=\"1\" class=\"dataframe\">\n",
       "  <thead>\n",
       "    <tr style=\"text-align: right;\">\n",
       "      <th></th>\n",
       "      <th>Date</th>\n",
       "      <th>Open</th>\n",
       "      <th>High</th>\n",
       "      <th>Low</th>\n",
       "      <th>Close</th>\n",
       "      <th>Adj Close</th>\n",
       "      <th>Volume</th>\n",
       "    </tr>\n",
       "  </thead>\n",
       "  <tbody>\n",
       "    <tr>\n",
       "      <th>0</th>\n",
       "      <td>08-03-2021</td>\n",
       "      <td>21.730000</td>\n",
       "      <td>21.850000</td>\n",
       "      <td>21.629999</td>\n",
       "      <td>21.719999</td>\n",
       "      <td>21.719999</td>\n",
       "      <td>227500</td>\n",
       "    </tr>\n",
       "    <tr>\n",
       "      <th>1</th>\n",
       "      <td>09-03-2021</td>\n",
       "      <td>22.000000</td>\n",
       "      <td>22.080000</td>\n",
       "      <td>21.940001</td>\n",
       "      <td>22.020000</td>\n",
       "      <td>22.020000</td>\n",
       "      <td>254100</td>\n",
       "    </tr>\n",
       "    <tr>\n",
       "      <th>2</th>\n",
       "      <td>10-03-2021</td>\n",
       "      <td>21.940001</td>\n",
       "      <td>22.000000</td>\n",
       "      <td>21.770000</td>\n",
       "      <td>21.959999</td>\n",
       "      <td>21.959999</td>\n",
       "      <td>226200</td>\n",
       "    </tr>\n",
       "    <tr>\n",
       "      <th>3</th>\n",
       "      <td>11-03-2021</td>\n",
       "      <td>21.889999</td>\n",
       "      <td>21.940001</td>\n",
       "      <td>21.780001</td>\n",
       "      <td>21.910000</td>\n",
       "      <td>21.910000</td>\n",
       "      <td>123300</td>\n",
       "    </tr>\n",
       "    <tr>\n",
       "      <th>4</th>\n",
       "      <td>12-03-2021</td>\n",
       "      <td>21.590000</td>\n",
       "      <td>21.760000</td>\n",
       "      <td>21.510000</td>\n",
       "      <td>21.709999</td>\n",
       "      <td>21.709999</td>\n",
       "      <td>178300</td>\n",
       "    </tr>\n",
       "  </tbody>\n",
       "</table>\n",
       "</div>"
      ],
      "text/plain": [
       "         Date       Open       High        Low      Close  Adj Close  Volume\n",
       "0  08-03-2021  21.730000  21.850000  21.629999  21.719999  21.719999  227500\n",
       "1  09-03-2021  22.000000  22.080000  21.940001  22.020000  22.020000  254100\n",
       "2  10-03-2021  21.940001  22.000000  21.770000  21.959999  21.959999  226200\n",
       "3  11-03-2021  21.889999  21.940001  21.780001  21.910000  21.910000  123300\n",
       "4  12-03-2021  21.590000  21.760000  21.510000  21.709999  21.709999  178300"
      ]
     },
     "execution_count": 5,
     "metadata": {},
     "output_type": "execute_result"
    }
   ],
   "source": [
    "dataset.head()"
   ]
  },
  {
   "cell_type": "code",
   "execution_count": 6,
   "metadata": {},
   "outputs": [
    {
     "name": "stdout",
     "output_type": "stream",
     "text": [
      "<class 'pandas.core.frame.DataFrame'>\n",
      "RangeIndex: 252 entries, 0 to 251\n",
      "Data columns (total 7 columns):\n",
      " #   Column     Non-Null Count  Dtype  \n",
      "---  ------     --------------  -----  \n",
      " 0   Date       252 non-null    object \n",
      " 1   Open       252 non-null    float64\n",
      " 2   High       252 non-null    float64\n",
      " 3   Low        252 non-null    float64\n",
      " 4   Close      252 non-null    float64\n",
      " 5   Adj Close  252 non-null    float64\n",
      " 6   Volume     252 non-null    int64  \n",
      "dtypes: float64(5), int64(1), object(1)\n",
      "memory usage: 13.9+ KB\n"
     ]
    }
   ],
   "source": [
    "dataset.info()"
   ]
  },
  {
   "cell_type": "code",
   "execution_count": 7,
   "metadata": {},
   "outputs": [
    {
     "data": {
      "text/html": [
       "<div>\n",
       "<style scoped>\n",
       "    .dataframe tbody tr th:only-of-type {\n",
       "        vertical-align: middle;\n",
       "    }\n",
       "\n",
       "    .dataframe tbody tr th {\n",
       "        vertical-align: top;\n",
       "    }\n",
       "\n",
       "    .dataframe thead th {\n",
       "        text-align: right;\n",
       "    }\n",
       "</style>\n",
       "<table border=\"1\" class=\"dataframe\">\n",
       "  <thead>\n",
       "    <tr style=\"text-align: right;\">\n",
       "      <th></th>\n",
       "      <th>Date</th>\n",
       "      <th>Open</th>\n",
       "      <th>High</th>\n",
       "      <th>Low</th>\n",
       "      <th>Close</th>\n",
       "      <th>Adj Close</th>\n",
       "      <th>Volume</th>\n",
       "    </tr>\n",
       "  </thead>\n",
       "  <tbody>\n",
       "    <tr>\n",
       "      <th>247</th>\n",
       "      <td>28-02-2022</td>\n",
       "      <td>23.549999</td>\n",
       "      <td>23.680000</td>\n",
       "      <td>23.480000</td>\n",
       "      <td>23.629999</td>\n",
       "      <td>23.629999</td>\n",
       "      <td>247200</td>\n",
       "    </tr>\n",
       "    <tr>\n",
       "      <th>248</th>\n",
       "      <td>01-03-2022</td>\n",
       "      <td>23.480000</td>\n",
       "      <td>23.620001</td>\n",
       "      <td>23.170000</td>\n",
       "      <td>23.250000</td>\n",
       "      <td>23.250000</td>\n",
       "      <td>244900</td>\n",
       "    </tr>\n",
       "    <tr>\n",
       "      <th>249</th>\n",
       "      <td>02-03-2022</td>\n",
       "      <td>22.840000</td>\n",
       "      <td>22.990000</td>\n",
       "      <td>22.700001</td>\n",
       "      <td>22.959999</td>\n",
       "      <td>22.959999</td>\n",
       "      <td>358500</td>\n",
       "    </tr>\n",
       "    <tr>\n",
       "      <th>250</th>\n",
       "      <td>03-03-2022</td>\n",
       "      <td>23.020000</td>\n",
       "      <td>23.150000</td>\n",
       "      <td>22.830000</td>\n",
       "      <td>22.969999</td>\n",
       "      <td>22.969999</td>\n",
       "      <td>249100</td>\n",
       "    </tr>\n",
       "    <tr>\n",
       "      <th>251</th>\n",
       "      <td>04-03-2022</td>\n",
       "      <td>22.900000</td>\n",
       "      <td>23.030001</td>\n",
       "      <td>22.780001</td>\n",
       "      <td>22.870001</td>\n",
       "      <td>22.870001</td>\n",
       "      <td>234727</td>\n",
       "    </tr>\n",
       "  </tbody>\n",
       "</table>\n",
       "</div>"
      ],
      "text/plain": [
       "           Date       Open       High        Low      Close  Adj Close  Volume\n",
       "247  28-02-2022  23.549999  23.680000  23.480000  23.629999  23.629999  247200\n",
       "248  01-03-2022  23.480000  23.620001  23.170000  23.250000  23.250000  244900\n",
       "249  02-03-2022  22.840000  22.990000  22.700001  22.959999  22.959999  358500\n",
       "250  03-03-2022  23.020000  23.150000  22.830000  22.969999  22.969999  249100\n",
       "251  04-03-2022  22.900000  23.030001  22.780001  22.870001  22.870001  234727"
      ]
     },
     "execution_count": 7,
     "metadata": {},
     "output_type": "execute_result"
    }
   ],
   "source": [
    "dataset.tail()"
   ]
  },
  {
   "cell_type": "code",
   "execution_count": 8,
   "metadata": {},
   "outputs": [
    {
     "data": {
      "text/plain": [
       "count    252.000000\n",
       "mean      23.629960\n",
       "std        0.837423\n",
       "min       21.590000\n",
       "25%       23.000000\n",
       "50%       23.714999\n",
       "75%       24.200001\n",
       "max       25.440001\n",
       "Name: Open, dtype: float64"
      ]
     },
     "execution_count": 8,
     "metadata": {},
     "output_type": "execute_result"
    }
   ],
   "source": [
    "dataset['Open'].describe()"
   ]
  },
  {
   "cell_type": "code",
   "execution_count": 9,
   "metadata": {},
   "outputs": [
    {
     "data": {
      "text/plain": [
       "count    252.000000\n",
       "mean      23.761190\n",
       "std        0.847946\n",
       "min       21.760000\n",
       "25%       23.165000\n",
       "50%       23.850000\n",
       "75%       24.420000\n",
       "max       25.940001\n",
       "Name: High, dtype: float64"
      ]
     },
     "execution_count": 9,
     "metadata": {},
     "output_type": "execute_result"
    }
   ],
   "source": [
    "dataset['High'].describe()"
   ]
  },
  {
   "cell_type": "code",
   "execution_count": 10,
   "metadata": {},
   "outputs": [
    {
     "data": {
      "text/plain": [
       "count    252.000000\n",
       "mean      23.477698\n",
       "std        0.838204\n",
       "min       21.000000\n",
       "25%       22.897500\n",
       "50%       23.564999\n",
       "75%       24.070000\n",
       "max       25.240000\n",
       "Name: Low, dtype: float64"
      ]
     },
     "execution_count": 10,
     "metadata": {},
     "output_type": "execute_result"
    }
   ],
   "source": [
    "dataset['Low'].describe()"
   ]
  },
  {
   "cell_type": "code",
   "execution_count": 11,
   "metadata": {},
   "outputs": [
    {
     "data": {
      "text/plain": [
       "count    252.000000\n",
       "mean      23.618095\n",
       "std        0.844666\n",
       "min       21.540001\n",
       "25%       22.990000\n",
       "50%       23.714999\n",
       "75%       24.212499\n",
       "max       25.370001\n",
       "Name: Close, dtype: float64"
      ]
     },
     "execution_count": 11,
     "metadata": {},
     "output_type": "execute_result"
    }
   ],
   "source": [
    "dataset['Close'].describe()"
   ]
  },
  {
   "cell_type": "code",
   "execution_count": 12,
   "metadata": {},
   "outputs": [
    {
     "data": {
      "text/plain": [
       "count    2.520000e+02\n",
       "mean     2.914446e+05\n",
       "std      2.388592e+05\n",
       "min      1.091000e+05\n",
       "25%      1.773250e+05\n",
       "50%      2.344500e+05\n",
       "75%      3.150000e+05\n",
       "max      2.253800e+06\n",
       "Name: Volume, dtype: float64"
      ]
     },
     "execution_count": 12,
     "metadata": {},
     "output_type": "execute_result"
    }
   ],
   "source": [
    "dataset['Volume'].describe()"
   ]
  },
  {
   "cell_type": "markdown",
   "metadata": {},
   "source": [
    "# DATA VISUALISATION"
   ]
  },
  {
   "cell_type": "code",
   "execution_count": 13,
   "metadata": {},
   "outputs": [
    {
     "data": {
      "image/png": "[encoded data removed]",
      "text/plain": [
       "<Figure size 432x288 with 1 Axes>"
      ]
     },
     "metadata": {
      "needs_background": "light"
     },
     "output_type": "display_data"
    }
   ],
   "source": [
    "plt.plot(dataset['Date'],dataset['Close'],'r')\n",
    "plt.xlabel('Date')\n",
    "plt.ylabel('Close')\n",
    "plt.title(\"Date vs close\")\n",
    "plt.savefig('variations.jpg')\n",
    "plt.show()"
   ]
  },
  {
   "cell_type": "code",
   "execution_count": 14,
   "metadata": {},
   "outputs": [
    {
     "data": {
      "image/png": "[encoded data removed]",
      "text/plain": [
       "<Figure size 432x288 with 1 Axes>"
      ]
     },
     "metadata": {
      "needs_background": "light"
     },
     "output_type": "display_data"
    }
   ],
   "source": [
    "plt.plot(dataset['Open'],dataset['Close'],'r')\n",
    "plt.xlabel('open')\n",
    "plt.ylabel('Close')\n",
    "plt.title(\"Open vs close\")\n",
    "plt.show()"
   ]
  },
  {
   "cell_type": "code",
   "execution_count": 15,
   "metadata": {},
   "outputs": [
    {
     "data": {
      "image/png": "[encoded data removed]",
      "text/plain": [
       "<Figure size 432x288 with 1 Axes>"
      ]
     },
     "metadata": {
      "needs_background": "light"
     },
     "output_type": "display_data"
    }
   ],
   "source": [
    "plt.plot(dataset['Low'],dataset['Close'],'r')\n",
    "plt.xlabel('Low')\n",
    "plt.ylabel('Close')\n",
    "plt.title(\"Low vs close\")\n",
    "plt.show()"
   ]
  },
  {
   "cell_type": "code",
   "execution_count": 16,
   "metadata": {},
   "outputs": [
    {
     "data": {
      "image/png": "[encoded data removed]",
      "text/plain": [
       "<Figure size 432x288 with 1 Axes>"
      ]
     },
     "metadata": {
      "needs_background": "light"
     },
     "output_type": "display_data"
    }
   ],
   "source": [
    "plt.plot(dataset['High'],dataset['Close'],'r')\n",
    "plt.xlabel('High')\n",
    "plt.ylabel('Close')\n",
    "plt.title(\"High vs close\")\n",
    "plt.show()"
   ]
  },
  {
   "cell_type": "code",
   "execution_count": 17,
   "metadata": {},
   "outputs": [
    {
     "data": {
      "image/png": "[encoded data removed]",
      "text/plain": [
       "<Figure size 432x288 with 1 Axes>"
      ]
     },
     "metadata": {
      "needs_background": "light"
     },
     "output_type": "display_data"
    }
   ],
   "source": [
    "plt.plot(dataset['Volume'],dataset['Close'],'r')\n",
    "plt.xlabel('Volume')\n",
    "plt.ylabel('Close')\n",
    "plt.title(\"Volume vs close\")\n",
    "plt.show()"
   ]
  },
  {
   "cell_type": "markdown",
   "metadata": {},
   "source": [
    "# CHECKING FOR OUTLIERS"
   ]
  },
  {
   "cell_type": "code",
   "execution_count": 18,
   "metadata": {},
   "outputs": [
    {
     "data": {
      "text/plain": [
       "<matplotlib.axes._subplots.AxesSubplot at 0x20de4345748>"
      ]
     },
     "execution_count": 18,
     "metadata": {},
     "output_type": "execute_result"
    },
    {
     "data": {
      "image/png": "[encoded data removed]",
      "text/plain": [
       "<Figure size 432x288 with 1 Axes>"
      ]
     },
     "metadata": {
      "needs_background": "light"
     },
     "output_type": "display_data"
    }
   ],
   "source": [
    "sns.boxplot(dataset[\"Open\"])"
   ]
  },
  {
   "cell_type": "code",
   "execution_count": 19,
   "metadata": {},
   "outputs": [
    {
     "data": {
      "text/plain": [
       "<matplotlib.axes._subplots.AxesSubplot at 0x20de45bcb48>"
      ]
     },
     "execution_count": 19,
     "metadata": {},
     "output_type": "execute_result"
    },
    {
     "data": {
      "image/png": "[encoded data removed]",
      "text/plain": [
       "<Figure size 432x288 with 1 Axes>"
      ]
     },
     "metadata": {
      "needs_background": "light"
     },
     "output_type": "display_data"
    }
   ],
   "source": [
    "sns.boxplot(dataset[\"Low\"])"
   ]
  },
  {
   "cell_type": "code",
   "execution_count": 20,
   "metadata": {},
   "outputs": [
    {
     "data": {
      "text/plain": [
       "<matplotlib.axes._subplots.AxesSubplot at 0x20de432d408>"
      ]
     },
     "execution_count": 20,
     "metadata": {},
     "output_type": "execute_result"
    },
    {
     "data": {
      "image/png": "[encoded data removed]",
      "text/plain": [
       "<Figure size 432x288 with 1 Axes>"
      ]
     },
     "metadata": {
      "needs_background": "light"
     },
     "output_type": "display_data"
    }
   ],
   "source": [
    "sns.boxplot(dataset[\"High\"])"
   ]
  },
  {
   "cell_type": "code",
   "execution_count": 21,
   "metadata": {},
   "outputs": [
    {
     "data": {
      "text/plain": [
       "<matplotlib.axes._subplots.AxesSubplot at 0x20de44fbe88>"
      ]
     },
     "execution_count": 21,
     "metadata": {},
     "output_type": "execute_result"
    },
    {
     "data": {
      "image/png": "[encoded data removed]",
      "text/plain": [
       "<Figure size 432x288 with 1 Axes>"
      ]
     },
     "metadata": {
      "needs_background": "light"
     },
     "output_type": "display_data"
    }
   ],
   "source": [
    "sns.boxplot(dataset[\"Close\"])"
   ]
  },
  {
   "cell_type": "code",
   "execution_count": 22,
   "metadata": {},
   "outputs": [
    {
     "data": {
      "text/plain": [
       "<matplotlib.axes._subplots.AxesSubplot at 0x20de4436688>"
      ]
     },
     "execution_count": 22,
     "metadata": {},
     "output_type": "execute_result"
    },
    {
     "data": {
      "image/png": "[encoded data removed]",
      "text/plain": [
       "<Figure size 432x288 with 1 Axes>"
      ]
     },
     "metadata": {
      "needs_background": "light"
     },
     "output_type": "display_data"
    }
   ],
   "source": [
    "sns.boxplot(dataset[\"Volume\"])"
   ]
  },
  {
   "cell_type": "code",
   "execution_count": 23,
   "metadata": {},
   "outputs": [
    {
     "data": {
      "text/html": [
       "<div>\n",
       "<style scoped>\n",
       "    .dataframe tbody tr th:only-of-type {\n",
       "        vertical-align: middle;\n",
       "    }\n",
       "\n",
       "    .dataframe tbody tr th {\n",
       "        vertical-align: top;\n",
       "    }\n",
       "\n",
       "    .dataframe thead th {\n",
       "        text-align: right;\n",
       "    }\n",
       "</style>\n",
       "<table border=\"1\" class=\"dataframe\">\n",
       "  <thead>\n",
       "    <tr style=\"text-align: right;\">\n",
       "      <th></th>\n",
       "      <th>Open</th>\n",
       "      <th>High</th>\n",
       "      <th>Low</th>\n",
       "      <th>Close</th>\n",
       "      <th>Adj Close</th>\n",
       "      <th>Volume</th>\n",
       "    </tr>\n",
       "  </thead>\n",
       "  <tbody>\n",
       "    <tr>\n",
       "      <th>Open</th>\n",
       "      <td>1.000000</td>\n",
       "      <td>0.990086</td>\n",
       "      <td>0.972603</td>\n",
       "      <td>0.969263</td>\n",
       "      <td>0.969263</td>\n",
       "      <td>-0.004490</td>\n",
       "    </tr>\n",
       "    <tr>\n",
       "      <th>High</th>\n",
       "      <td>0.990086</td>\n",
       "      <td>1.000000</td>\n",
       "      <td>0.971934</td>\n",
       "      <td>0.978127</td>\n",
       "      <td>0.978127</td>\n",
       "      <td>0.011036</td>\n",
       "    </tr>\n",
       "    <tr>\n",
       "      <th>Low</th>\n",
       "      <td>0.972603</td>\n",
       "      <td>0.971934</td>\n",
       "      <td>1.000000</td>\n",
       "      <td>0.991497</td>\n",
       "      <td>0.991497</td>\n",
       "      <td>-0.128617</td>\n",
       "    </tr>\n",
       "    <tr>\n",
       "      <th>Close</th>\n",
       "      <td>0.969263</td>\n",
       "      <td>0.978127</td>\n",
       "      <td>0.991497</td>\n",
       "      <td>1.000000</td>\n",
       "      <td>1.000000</td>\n",
       "      <td>-0.090810</td>\n",
       "    </tr>\n",
       "    <tr>\n",
       "      <th>Adj Close</th>\n",
       "      <td>0.969263</td>\n",
       "      <td>0.978127</td>\n",
       "      <td>0.991497</td>\n",
       "      <td>1.000000</td>\n",
       "      <td>1.000000</td>\n",
       "      <td>-0.090810</td>\n",
       "    </tr>\n",
       "    <tr>\n",
       "      <th>Volume</th>\n",
       "      <td>-0.004490</td>\n",
       "      <td>0.011036</td>\n",
       "      <td>-0.128617</td>\n",
       "      <td>-0.090810</td>\n",
       "      <td>-0.090810</td>\n",
       "      <td>1.000000</td>\n",
       "    </tr>\n",
       "  </tbody>\n",
       "</table>\n",
       "</div>"
      ],
      "text/plain": [
       "               Open      High       Low     Close  Adj Close    Volume\n",
       "Open       1.000000  0.990086  0.972603  0.969263   0.969263 -0.004490\n",
       "High       0.990086  1.000000  0.971934  0.978127   0.978127  0.011036\n",
       "Low        0.972603  0.971934  1.000000  0.991497   0.991497 -0.128617\n",
       "Close      0.969263  0.978127  0.991497  1.000000   1.000000 -0.090810\n",
       "Adj Close  0.969263  0.978127  0.991497  1.000000   1.000000 -0.090810\n",
       "Volume    -0.004490  0.011036 -0.128617 -0.090810  -0.090810  1.000000"
      ]
     },
     "execution_count": 23,
     "metadata": {},
     "output_type": "execute_result"
    }
   ],
   "source": [
    "dataset.corr()"
   ]
  },
  {
   "cell_type": "code",
   "execution_count": 24,
   "metadata": {},
   "outputs": [
    {
     "data": {
      "text/plain": [
       "<matplotlib.axes._subplots.AxesSubplot at 0x20de47a9c48>"
      ]
     },
     "execution_count": 24,
     "metadata": {},
     "output_type": "execute_result"
    },
    {
     "data": {
      "image/png": "[encoded data removed]",
      "text/plain": [
       "<Figure size 432x288 with 2 Axes>"
      ]
     },
     "metadata": {
      "needs_background": "light"
     },
     "output_type": "display_data"
    }
   ],
   "source": [
    "sns.heatmap(dataset.corr())"
   ]
  },
  {
   "cell_type": "markdown",
   "metadata": {},
   "source": [
    "# DATA PREPROCESSING"
   ]
  },
  {
   "cell_type": "code",
   "execution_count": 25,
   "metadata": {},
   "outputs": [
    {
     "data": {
      "text/plain": [
       "23.490000    5\n",
       "23.889999    4\n",
       "24.340000    4\n",
       "22.700001    4\n",
       "23.700001    3\n",
       "            ..\n",
       "23.180000    1\n",
       "23.940001    1\n",
       "24.129999    1\n",
       "24.260000    1\n",
       "22.230000    1\n",
       "Name: Close, Length: 171, dtype: int64"
      ]
     },
     "execution_count": 25,
     "metadata": {},
     "output_type": "execute_result"
    }
   ],
   "source": [
    "dataset[\"Close\"].value_counts()"
   ]
  },
  {
   "cell_type": "code",
   "execution_count": 26,
   "metadata": {},
   "outputs": [
    {
     "data": {
      "text/plain": [
       "Date         False\n",
       "Open         False\n",
       "High         False\n",
       "Low          False\n",
       "Close        False\n",
       "Adj Close    False\n",
       "Volume       False\n",
       "dtype: bool"
      ]
     },
     "execution_count": 26,
     "metadata": {},
     "output_type": "execute_result"
    }
   ],
   "source": [
    "dataset.isnull().any()"
   ]
  },
  {
   "cell_type": "code",
   "execution_count": 27,
   "metadata": {},
   "outputs": [
    {
     "data": {
      "text/html": [
       "<div>\n",
       "<style scoped>\n",
       "    .dataframe tbody tr th:only-of-type {\n",
       "        vertical-align: middle;\n",
       "    }\n",
       "\n",
       "    .dataframe tbody tr th {\n",
       "        vertical-align: top;\n",
       "    }\n",
       "\n",
       "    .dataframe thead th {\n",
       "        text-align: right;\n",
       "    }\n",
       "</style>\n",
       "<table border=\"1\" class=\"dataframe\">\n",
       "  <thead>\n",
       "    <tr style=\"text-align: right;\">\n",
       "      <th></th>\n",
       "      <th>Open</th>\n",
       "      <th>High</th>\n",
       "      <th>Low</th>\n",
       "      <th>Close</th>\n",
       "      <th>Adj Close</th>\n",
       "      <th>Volume</th>\n",
       "    </tr>\n",
       "  </thead>\n",
       "  <tbody>\n",
       "    <tr>\n",
       "      <th>0</th>\n",
       "      <td>21.730000</td>\n",
       "      <td>21.850000</td>\n",
       "      <td>21.629999</td>\n",
       "      <td>21.719999</td>\n",
       "      <td>21.719999</td>\n",
       "      <td>227500</td>\n",
       "    </tr>\n",
       "    <tr>\n",
       "      <th>1</th>\n",
       "      <td>22.000000</td>\n",
       "      <td>22.080000</td>\n",
       "      <td>21.940001</td>\n",
       "      <td>22.020000</td>\n",
       "      <td>22.020000</td>\n",
       "      <td>254100</td>\n",
       "    </tr>\n",
       "    <tr>\n",
       "      <th>2</th>\n",
       "      <td>21.940001</td>\n",
       "      <td>22.000000</td>\n",
       "      <td>21.770000</td>\n",
       "      <td>21.959999</td>\n",
       "      <td>21.959999</td>\n",
       "      <td>226200</td>\n",
       "    </tr>\n",
       "    <tr>\n",
       "      <th>3</th>\n",
       "      <td>21.889999</td>\n",
       "      <td>21.940001</td>\n",
       "      <td>21.780001</td>\n",
       "      <td>21.910000</td>\n",
       "      <td>21.910000</td>\n",
       "      <td>123300</td>\n",
       "    </tr>\n",
       "    <tr>\n",
       "      <th>4</th>\n",
       "      <td>21.590000</td>\n",
       "      <td>21.760000</td>\n",
       "      <td>21.510000</td>\n",
       "      <td>21.709999</td>\n",
       "      <td>21.709999</td>\n",
       "      <td>178300</td>\n",
       "    </tr>\n",
       "    <tr>\n",
       "      <th>...</th>\n",
       "      <td>...</td>\n",
       "      <td>...</td>\n",
       "      <td>...</td>\n",
       "      <td>...</td>\n",
       "      <td>...</td>\n",
       "      <td>...</td>\n",
       "    </tr>\n",
       "    <tr>\n",
       "      <th>247</th>\n",
       "      <td>23.549999</td>\n",
       "      <td>23.680000</td>\n",
       "      <td>23.480000</td>\n",
       "      <td>23.629999</td>\n",
       "      <td>23.629999</td>\n",
       "      <td>247200</td>\n",
       "    </tr>\n",
       "    <tr>\n",
       "      <th>248</th>\n",
       "      <td>23.480000</td>\n",
       "      <td>23.620001</td>\n",
       "      <td>23.170000</td>\n",
       "      <td>23.250000</td>\n",
       "      <td>23.250000</td>\n",
       "      <td>244900</td>\n",
       "    </tr>\n",
       "    <tr>\n",
       "      <th>249</th>\n",
       "      <td>22.840000</td>\n",
       "      <td>22.990000</td>\n",
       "      <td>22.700001</td>\n",
       "      <td>22.959999</td>\n",
       "      <td>22.959999</td>\n",
       "      <td>358500</td>\n",
       "    </tr>\n",
       "    <tr>\n",
       "      <th>250</th>\n",
       "      <td>23.020000</td>\n",
       "      <td>23.150000</td>\n",
       "      <td>22.830000</td>\n",
       "      <td>22.969999</td>\n",
       "      <td>22.969999</td>\n",
       "      <td>249100</td>\n",
       "    </tr>\n",
       "    <tr>\n",
       "      <th>251</th>\n",
       "      <td>22.900000</td>\n",
       "      <td>23.030001</td>\n",
       "      <td>22.780001</td>\n",
       "      <td>22.870001</td>\n",
       "      <td>22.870001</td>\n",
       "      <td>234727</td>\n",
       "    </tr>\n",
       "  </tbody>\n",
       "</table>\n",
       "<p>252 rows × 6 columns</p>\n",
       "</div>"
      ],
      "text/plain": [
       "          Open       High        Low      Close  Adj Close  Volume\n",
       "0    21.730000  21.850000  21.629999  21.719999  21.719999  227500\n",
       "1    22.000000  22.080000  21.940001  22.020000  22.020000  254100\n",
       "2    21.940001  22.000000  21.770000  21.959999  21.959999  226200\n",
       "3    21.889999  21.940001  21.780001  21.910000  21.910000  123300\n",
       "4    21.590000  21.760000  21.510000  21.709999  21.709999  178300\n",
       "..         ...        ...        ...        ...        ...     ...\n",
       "247  23.549999  23.680000  23.480000  23.629999  23.629999  247200\n",
       "248  23.480000  23.620001  23.170000  23.250000  23.250000  244900\n",
       "249  22.840000  22.990000  22.700001  22.959999  22.959999  358500\n",
       "250  23.020000  23.150000  22.830000  22.969999  22.969999  249100\n",
       "251  22.900000  23.030001  22.780001  22.870001  22.870001  234727\n",
       "\n",
       "[252 rows x 6 columns]"
      ]
     },
     "execution_count": 27,
     "metadata": {},
     "output_type": "execute_result"
    }
   ],
   "source": [
    "dataset=dataset.iloc[:,1:]\n",
    "dataset"
   ]
  },
  {
   "cell_type": "code",
   "execution_count": 28,
   "metadata": {},
   "outputs": [
    {
     "data": {
      "text/html": [
       "<div>\n",
       "<style scoped>\n",
       "    .dataframe tbody tr th:only-of-type {\n",
       "        vertical-align: middle;\n",
       "    }\n",
       "\n",
       "    .dataframe tbody tr th {\n",
       "        vertical-align: top;\n",
       "    }\n",
       "\n",
       "    .dataframe thead th {\n",
       "        text-align: right;\n",
       "    }\n",
       "</style>\n",
       "<table border=\"1\" class=\"dataframe\">\n",
       "  <thead>\n",
       "    <tr style=\"text-align: right;\">\n",
       "      <th></th>\n",
       "      <th>Open</th>\n",
       "      <th>High</th>\n",
       "      <th>Low</th>\n",
       "      <th>Close</th>\n",
       "      <th>Volume</th>\n",
       "    </tr>\n",
       "  </thead>\n",
       "  <tbody>\n",
       "    <tr>\n",
       "      <th>0</th>\n",
       "      <td>21.730000</td>\n",
       "      <td>21.850000</td>\n",
       "      <td>21.629999</td>\n",
       "      <td>21.719999</td>\n",
       "      <td>227500</td>\n",
       "    </tr>\n",
       "    <tr>\n",
       "      <th>1</th>\n",
       "      <td>22.000000</td>\n",
       "      <td>22.080000</td>\n",
       "      <td>21.940001</td>\n",
       "      <td>22.020000</td>\n",
       "      <td>254100</td>\n",
       "    </tr>\n",
       "    <tr>\n",
       "      <th>2</th>\n",
       "      <td>21.940001</td>\n",
       "      <td>22.000000</td>\n",
       "      <td>21.770000</td>\n",
       "      <td>21.959999</td>\n",
       "      <td>226200</td>\n",
       "    </tr>\n",
       "    <tr>\n",
       "      <th>3</th>\n",
       "      <td>21.889999</td>\n",
       "      <td>21.940001</td>\n",
       "      <td>21.780001</td>\n",
       "      <td>21.910000</td>\n",
       "      <td>123300</td>\n",
       "    </tr>\n",
       "    <tr>\n",
       "      <th>4</th>\n",
       "      <td>21.590000</td>\n",
       "      <td>21.760000</td>\n",
       "      <td>21.510000</td>\n",
       "      <td>21.709999</td>\n",
       "      <td>178300</td>\n",
       "    </tr>\n",
       "    <tr>\n",
       "      <th>...</th>\n",
       "      <td>...</td>\n",
       "      <td>...</td>\n",
       "      <td>...</td>\n",
       "      <td>...</td>\n",
       "      <td>...</td>\n",
       "    </tr>\n",
       "    <tr>\n",
       "      <th>247</th>\n",
       "      <td>23.549999</td>\n",
       "      <td>23.680000</td>\n",
       "      <td>23.480000</td>\n",
       "      <td>23.629999</td>\n",
       "      <td>247200</td>\n",
       "    </tr>\n",
       "    <tr>\n",
       "      <th>248</th>\n",
       "      <td>23.480000</td>\n",
       "      <td>23.620001</td>\n",
       "      <td>23.170000</td>\n",
       "      <td>23.250000</td>\n",
       "      <td>244900</td>\n",
       "    </tr>\n",
       "    <tr>\n",
       "      <th>249</th>\n",
       "      <td>22.840000</td>\n",
       "      <td>22.990000</td>\n",
       "      <td>22.700001</td>\n",
       "      <td>22.959999</td>\n",
       "      <td>358500</td>\n",
       "    </tr>\n",
       "    <tr>\n",
       "      <th>250</th>\n",
       "      <td>23.020000</td>\n",
       "      <td>23.150000</td>\n",
       "      <td>22.830000</td>\n",
       "      <td>22.969999</td>\n",
       "      <td>249100</td>\n",
       "    </tr>\n",
       "    <tr>\n",
       "      <th>251</th>\n",
       "      <td>22.900000</td>\n",
       "      <td>23.030001</td>\n",
       "      <td>22.780001</td>\n",
       "      <td>22.870001</td>\n",
       "      <td>234727</td>\n",
       "    </tr>\n",
       "  </tbody>\n",
       "</table>\n",
       "<p>252 rows × 5 columns</p>\n",
       "</div>"
      ],
      "text/plain": [
       "          Open       High        Low      Close  Volume\n",
       "0    21.730000  21.850000  21.629999  21.719999  227500\n",
       "1    22.000000  22.080000  21.940001  22.020000  254100\n",
       "2    21.940001  22.000000  21.770000  21.959999  226200\n",
       "3    21.889999  21.940001  21.780001  21.910000  123300\n",
       "4    21.590000  21.760000  21.510000  21.709999  178300\n",
       "..         ...        ...        ...        ...     ...\n",
       "247  23.549999  23.680000  23.480000  23.629999  247200\n",
       "248  23.480000  23.620001  23.170000  23.250000  244900\n",
       "249  22.840000  22.990000  22.700001  22.959999  358500\n",
       "250  23.020000  23.150000  22.830000  22.969999  249100\n",
       "251  22.900000  23.030001  22.780001  22.870001  234727\n",
       "\n",
       "[252 rows x 5 columns]"
      ]
     },
     "execution_count": 28,
     "metadata": {},
     "output_type": "execute_result"
    }
   ],
   "source": [
    "dataset=dataset.drop('Adj Close',axis=1)\n",
    "dataset"
   ]
  },
  {
   "cell_type": "code",
   "execution_count": 29,
   "metadata": {},
   "outputs": [
    {
     "data": {
      "text/plain": [
       "array([[2.27333353, 2.25839051, 2.20874079, 2.25162743, 0.26824092],\n",
       "       [1.95027412, 1.98660712, 1.83816424, 1.89574952, 0.15665661],\n",
       "       [2.0220639 , 2.08114048, 2.04138353, 1.96692605, 0.27369429],\n",
       "       ...,\n",
       "       [0.94520043, 0.91129023, 0.92965986, 0.78067033, 0.28129082],\n",
       "       [0.72982749, 0.72222352, 0.77425898, 0.76880778, 0.17763111],\n",
       "       [0.87340945, 0.86402237, 0.83402781, 0.88743097, 0.23792439]])"
      ]
     },
     "execution_count": 29,
     "metadata": {},
     "output_type": "execute_result"
    }
   ],
   "source": [
    "z=np.abs(stats.zscore(dataset))\n",
    "z"
   ]
  },
  {
   "cell_type": "code",
   "execution_count": 30,
   "metadata": {},
   "outputs": [
    {
     "data": {
      "text/html": [
       "<div>\n",
       "<style scoped>\n",
       "    .dataframe tbody tr th:only-of-type {\n",
       "        vertical-align: middle;\n",
       "    }\n",
       "\n",
       "    .dataframe tbody tr th {\n",
       "        vertical-align: top;\n",
       "    }\n",
       "\n",
       "    .dataframe thead th {\n",
       "        text-align: right;\n",
       "    }\n",
       "</style>\n",
       "<table border=\"1\" class=\"dataframe\">\n",
       "  <thead>\n",
       "    <tr style=\"text-align: right;\">\n",
       "      <th></th>\n",
       "      <th>Open</th>\n",
       "      <th>High</th>\n",
       "      <th>Low</th>\n",
       "      <th>Close</th>\n",
       "      <th>Volume</th>\n",
       "    </tr>\n",
       "  </thead>\n",
       "  <tbody>\n",
       "    <tr>\n",
       "      <th>13</th>\n",
       "      <td>22.440001</td>\n",
       "      <td>22.790001</td>\n",
       "      <td>22.389999</td>\n",
       "      <td>22.760000</td>\n",
       "      <td>288900</td>\n",
       "    </tr>\n",
       "    <tr>\n",
       "      <th>14</th>\n",
       "      <td>22.709999</td>\n",
       "      <td>22.980000</td>\n",
       "      <td>22.620001</td>\n",
       "      <td>22.959999</td>\n",
       "      <td>262000</td>\n",
       "    </tr>\n",
       "    <tr>\n",
       "      <th>15</th>\n",
       "      <td>22.990000</td>\n",
       "      <td>23.080000</td>\n",
       "      <td>22.900000</td>\n",
       "      <td>22.990000</td>\n",
       "      <td>301500</td>\n",
       "    </tr>\n",
       "    <tr>\n",
       "      <th>16</th>\n",
       "      <td>22.950001</td>\n",
       "      <td>23.080000</td>\n",
       "      <td>22.840000</td>\n",
       "      <td>22.990000</td>\n",
       "      <td>210700</td>\n",
       "    </tr>\n",
       "    <tr>\n",
       "      <th>17</th>\n",
       "      <td>22.770000</td>\n",
       "      <td>22.809999</td>\n",
       "      <td>22.650000</td>\n",
       "      <td>22.770000</td>\n",
       "      <td>164600</td>\n",
       "    </tr>\n",
       "    <tr>\n",
       "      <th>...</th>\n",
       "      <td>...</td>\n",
       "      <td>...</td>\n",
       "      <td>...</td>\n",
       "      <td>...</td>\n",
       "      <td>...</td>\n",
       "    </tr>\n",
       "    <tr>\n",
       "      <th>247</th>\n",
       "      <td>23.549999</td>\n",
       "      <td>23.680000</td>\n",
       "      <td>23.480000</td>\n",
       "      <td>23.629999</td>\n",
       "      <td>247200</td>\n",
       "    </tr>\n",
       "    <tr>\n",
       "      <th>248</th>\n",
       "      <td>23.480000</td>\n",
       "      <td>23.620001</td>\n",
       "      <td>23.170000</td>\n",
       "      <td>23.250000</td>\n",
       "      <td>244900</td>\n",
       "    </tr>\n",
       "    <tr>\n",
       "      <th>249</th>\n",
       "      <td>22.840000</td>\n",
       "      <td>22.990000</td>\n",
       "      <td>22.700001</td>\n",
       "      <td>22.959999</td>\n",
       "      <td>358500</td>\n",
       "    </tr>\n",
       "    <tr>\n",
       "      <th>250</th>\n",
       "      <td>23.020000</td>\n",
       "      <td>23.150000</td>\n",
       "      <td>22.830000</td>\n",
       "      <td>22.969999</td>\n",
       "      <td>249100</td>\n",
       "    </tr>\n",
       "    <tr>\n",
       "      <th>251</th>\n",
       "      <td>22.900000</td>\n",
       "      <td>23.030001</td>\n",
       "      <td>22.780001</td>\n",
       "      <td>22.870001</td>\n",
       "      <td>234727</td>\n",
       "    </tr>\n",
       "  </tbody>\n",
       "</table>\n",
       "<p>203 rows × 5 columns</p>\n",
       "</div>"
      ],
      "text/plain": [
       "          Open       High        Low      Close  Volume\n",
       "13   22.440001  22.790001  22.389999  22.760000  288900\n",
       "14   22.709999  22.980000  22.620001  22.959999  262000\n",
       "15   22.990000  23.080000  22.900000  22.990000  301500\n",
       "16   22.950001  23.080000  22.840000  22.990000  210700\n",
       "17   22.770000  22.809999  22.650000  22.770000  164600\n",
       "..         ...        ...        ...        ...     ...\n",
       "247  23.549999  23.680000  23.480000  23.629999  247200\n",
       "248  23.480000  23.620001  23.170000  23.250000  244900\n",
       "249  22.840000  22.990000  22.700001  22.959999  358500\n",
       "250  23.020000  23.150000  22.830000  22.969999  249100\n",
       "251  22.900000  23.030001  22.780001  22.870001  234727\n",
       "\n",
       "[203 rows x 5 columns]"
      ]
     },
     "execution_count": 30,
     "metadata": {},
     "output_type": "execute_result"
    }
   ],
   "source": [
    "threshold=1.5\n",
    "np.where(z>threshold)\n",
    "dataset1=dataset[(z<=1.5).all(axis=1)]\n",
    "dataset1"
   ]
  },
  {
   "cell_type": "code",
   "execution_count": 31,
   "metadata": {},
   "outputs": [
    {
     "data": {
      "text/plain": [
       "<matplotlib.axes._subplots.AxesSubplot at 0x20de4896fc8>"
      ]
     },
     "execution_count": 31,
     "metadata": {},
     "output_type": "execute_result"
    },
    {
     "data": {
      "image/png": "[encoded data removed]",
      "text/plain": [
       "<Figure size 432x288 with 1 Axes>"
      ]
     },
     "metadata": {
      "needs_background": "light"
     },
     "output_type": "display_data"
    }
   ],
   "source": [
    "sns.boxplot(dataset1['Volume'])"
   ]
  },
  {
   "cell_type": "code",
   "execution_count": 32,
   "metadata": {},
   "outputs": [
    {
     "data": {
      "text/plain": [
       "Open          23.0000\n",
       "High          23.1650\n",
       "Low           22.8975\n",
       "Close         22.9900\n",
       "Volume    177325.0000\n",
       "Name: 0.25, dtype: float64"
      ]
     },
     "execution_count": 32,
     "metadata": {},
     "output_type": "execute_result"
    }
   ],
   "source": [
    "Q1=dataset.quantile(0.25)\n",
    "Q1"
   ]
  },
  {
   "cell_type": "code",
   "execution_count": 33,
   "metadata": {},
   "outputs": [
    {
     "data": {
      "text/plain": [
       "Open          24.200001\n",
       "High          24.420000\n",
       "Low           24.070000\n",
       "Close         24.212499\n",
       "Volume    315000.000000\n",
       "Name: 0.75, dtype: float64"
      ]
     },
     "execution_count": 33,
     "metadata": {},
     "output_type": "execute_result"
    }
   ],
   "source": [
    "Q3=dataset.quantile(0.75)\n",
    "Q3"
   ]
  },
  {
   "cell_type": "code",
   "execution_count": 34,
   "metadata": {},
   "outputs": [
    {
     "data": {
      "text/plain": [
       "Open           1.200001\n",
       "High           1.255000\n",
       "Low            1.172500\n",
       "Close          1.222499\n",
       "Volume    137675.000000\n",
       "dtype: float64"
      ]
     },
     "execution_count": 34,
     "metadata": {},
     "output_type": "execute_result"
    }
   ],
   "source": [
    "IQR=Q3-Q1\n",
    "IQR"
   ]
  },
  {
   "cell_type": "code",
   "execution_count": 35,
   "metadata": {},
   "outputs": [
    {
     "data": {
      "text/html": [
       "<div>\n",
       "<style scoped>\n",
       "    .dataframe tbody tr th:only-of-type {\n",
       "        vertical-align: middle;\n",
       "    }\n",
       "\n",
       "    .dataframe tbody tr th {\n",
       "        vertical-align: top;\n",
       "    }\n",
       "\n",
       "    .dataframe thead th {\n",
       "        text-align: right;\n",
       "    }\n",
       "</style>\n",
       "<table border=\"1\" class=\"dataframe\">\n",
       "  <thead>\n",
       "    <tr style=\"text-align: right;\">\n",
       "      <th></th>\n",
       "      <th>Open</th>\n",
       "      <th>High</th>\n",
       "      <th>Low</th>\n",
       "      <th>Close</th>\n",
       "      <th>Volume</th>\n",
       "    </tr>\n",
       "  </thead>\n",
       "  <tbody>\n",
       "    <tr>\n",
       "      <th>0</th>\n",
       "      <td>21.730000</td>\n",
       "      <td>21.850000</td>\n",
       "      <td>21.629999</td>\n",
       "      <td>21.719999</td>\n",
       "      <td>227500</td>\n",
       "    </tr>\n",
       "    <tr>\n",
       "      <th>1</th>\n",
       "      <td>22.000000</td>\n",
       "      <td>22.080000</td>\n",
       "      <td>21.940001</td>\n",
       "      <td>22.020000</td>\n",
       "      <td>254100</td>\n",
       "    </tr>\n",
       "    <tr>\n",
       "      <th>2</th>\n",
       "      <td>21.940001</td>\n",
       "      <td>22.000000</td>\n",
       "      <td>21.770000</td>\n",
       "      <td>21.959999</td>\n",
       "      <td>226200</td>\n",
       "    </tr>\n",
       "    <tr>\n",
       "      <th>3</th>\n",
       "      <td>21.889999</td>\n",
       "      <td>21.940001</td>\n",
       "      <td>21.780001</td>\n",
       "      <td>21.910000</td>\n",
       "      <td>123300</td>\n",
       "    </tr>\n",
       "    <tr>\n",
       "      <th>4</th>\n",
       "      <td>21.590000</td>\n",
       "      <td>21.760000</td>\n",
       "      <td>21.510000</td>\n",
       "      <td>21.709999</td>\n",
       "      <td>178300</td>\n",
       "    </tr>\n",
       "    <tr>\n",
       "      <th>...</th>\n",
       "      <td>...</td>\n",
       "      <td>...</td>\n",
       "      <td>...</td>\n",
       "      <td>...</td>\n",
       "      <td>...</td>\n",
       "    </tr>\n",
       "    <tr>\n",
       "      <th>247</th>\n",
       "      <td>23.549999</td>\n",
       "      <td>23.680000</td>\n",
       "      <td>23.480000</td>\n",
       "      <td>23.629999</td>\n",
       "      <td>247200</td>\n",
       "    </tr>\n",
       "    <tr>\n",
       "      <th>248</th>\n",
       "      <td>23.480000</td>\n",
       "      <td>23.620001</td>\n",
       "      <td>23.170000</td>\n",
       "      <td>23.250000</td>\n",
       "      <td>244900</td>\n",
       "    </tr>\n",
       "    <tr>\n",
       "      <th>249</th>\n",
       "      <td>22.840000</td>\n",
       "      <td>22.990000</td>\n",
       "      <td>22.700001</td>\n",
       "      <td>22.959999</td>\n",
       "      <td>358500</td>\n",
       "    </tr>\n",
       "    <tr>\n",
       "      <th>250</th>\n",
       "      <td>23.020000</td>\n",
       "      <td>23.150000</td>\n",
       "      <td>22.830000</td>\n",
       "      <td>22.969999</td>\n",
       "      <td>249100</td>\n",
       "    </tr>\n",
       "    <tr>\n",
       "      <th>251</th>\n",
       "      <td>22.900000</td>\n",
       "      <td>23.030001</td>\n",
       "      <td>22.780001</td>\n",
       "      <td>22.870001</td>\n",
       "      <td>234727</td>\n",
       "    </tr>\n",
       "  </tbody>\n",
       "</table>\n",
       "<p>236 rows × 5 columns</p>\n",
       "</div>"
      ],
      "text/plain": [
       "          Open       High        Low      Close  Volume\n",
       "0    21.730000  21.850000  21.629999  21.719999  227500\n",
       "1    22.000000  22.080000  21.940001  22.020000  254100\n",
       "2    21.940001  22.000000  21.770000  21.959999  226200\n",
       "3    21.889999  21.940001  21.780001  21.910000  123300\n",
       "4    21.590000  21.760000  21.510000  21.709999  178300\n",
       "..         ...        ...        ...        ...     ...\n",
       "247  23.549999  23.680000  23.480000  23.629999  247200\n",
       "248  23.480000  23.620001  23.170000  23.250000  244900\n",
       "249  22.840000  22.990000  22.700001  22.959999  358500\n",
       "250  23.020000  23.150000  22.830000  22.969999  249100\n",
       "251  22.900000  23.030001  22.780001  22.870001  234727\n",
       "\n",
       "[236 rows x 5 columns]"
      ]
     },
     "execution_count": 35,
     "metadata": {},
     "output_type": "execute_result"
    }
   ],
   "source": [
    "dataset2=dataset[~((dataset<(Q1-1.5*IQR))|(dataset>(Q3+1.5*IQR))).any(axis=1)]\n",
    "dataset2"
   ]
  },
  {
   "cell_type": "code",
   "execution_count": 36,
   "metadata": {},
   "outputs": [
    {
     "data": {
      "text/plain": [
       "<matplotlib.axes._subplots.AxesSubplot at 0x20de48f7988>"
      ]
     },
     "execution_count": 36,
     "metadata": {},
     "output_type": "execute_result"
    },
    {
     "data": {
      "image/png": "[encoded data removed]",
      "text/plain": [
       "<Figure size 432x288 with 1 Axes>"
      ]
     },
     "metadata": {
      "needs_background": "light"
     },
     "output_type": "display_data"
    }
   ],
   "source": [
    "sns.boxplot(dataset2['Volume'])"
   ]
  },
  {
   "cell_type": "code",
   "execution_count": 37,
   "metadata": {},
   "outputs": [
    {
     "data": {
      "text/plain": [
       "<matplotlib.axes._subplots.AxesSubplot at 0x20de4953748>"
      ]
     },
     "execution_count": 37,
     "metadata": {},
     "output_type": "execute_result"
    },
    {
     "data": {
      "image/png": "[encoded data removed]",
      "text/plain": [
       "<Figure size 432x288 with 1 Axes>"
      ]
     },
     "metadata": {
      "needs_background": "light"
     },
     "output_type": "display_data"
    }
   ],
   "source": [
    "sns.boxplot(dataset2['Low'])"
   ]
  },
  {
   "cell_type": "markdown",
   "metadata": {},
   "source": [
    "# QUANTILE METHOD REMOVED MORE OUTLIERS"
   ]
  },
  {
   "cell_type": "code",
   "execution_count": 38,
   "metadata": {},
   "outputs": [
    {
     "data": {
      "text/plain": [
       "0      21.719999\n",
       "1      22.020000\n",
       "2      21.959999\n",
       "3      21.910000\n",
       "4      21.709999\n",
       "         ...    \n",
       "247    23.629999\n",
       "248    23.250000\n",
       "249    22.959999\n",
       "250    22.969999\n",
       "251    22.870001\n",
       "Name: Close, Length: 236, dtype: float64"
      ]
     },
     "execution_count": 38,
     "metadata": {},
     "output_type": "execute_result"
    }
   ],
   "source": [
    "y=dataset2.iloc[:,3]\n",
    "y"
   ]
  },
  {
   "cell_type": "code",
   "execution_count": 39,
   "metadata": {},
   "outputs": [
    {
     "data": {
      "text/html": [
       "<div>\n",
       "<style scoped>\n",
       "    .dataframe tbody tr th:only-of-type {\n",
       "        vertical-align: middle;\n",
       "    }\n",
       "\n",
       "    .dataframe tbody tr th {\n",
       "        vertical-align: top;\n",
       "    }\n",
       "\n",
       "    .dataframe thead th {\n",
       "        text-align: right;\n",
       "    }\n",
       "</style>\n",
       "<table border=\"1\" class=\"dataframe\">\n",
       "  <thead>\n",
       "    <tr style=\"text-align: right;\">\n",
       "      <th></th>\n",
       "      <th>Open</th>\n",
       "      <th>High</th>\n",
       "      <th>Low</th>\n",
       "      <th>Volume</th>\n",
       "    </tr>\n",
       "  </thead>\n",
       "  <tbody>\n",
       "    <tr>\n",
       "      <th>0</th>\n",
       "      <td>21.730000</td>\n",
       "      <td>21.850000</td>\n",
       "      <td>21.629999</td>\n",
       "      <td>227500</td>\n",
       "    </tr>\n",
       "    <tr>\n",
       "      <th>1</th>\n",
       "      <td>22.000000</td>\n",
       "      <td>22.080000</td>\n",
       "      <td>21.940001</td>\n",
       "      <td>254100</td>\n",
       "    </tr>\n",
       "    <tr>\n",
       "      <th>2</th>\n",
       "      <td>21.940001</td>\n",
       "      <td>22.000000</td>\n",
       "      <td>21.770000</td>\n",
       "      <td>226200</td>\n",
       "    </tr>\n",
       "    <tr>\n",
       "      <th>3</th>\n",
       "      <td>21.889999</td>\n",
       "      <td>21.940001</td>\n",
       "      <td>21.780001</td>\n",
       "      <td>123300</td>\n",
       "    </tr>\n",
       "    <tr>\n",
       "      <th>4</th>\n",
       "      <td>21.590000</td>\n",
       "      <td>21.760000</td>\n",
       "      <td>21.510000</td>\n",
       "      <td>178300</td>\n",
       "    </tr>\n",
       "    <tr>\n",
       "      <th>...</th>\n",
       "      <td>...</td>\n",
       "      <td>...</td>\n",
       "      <td>...</td>\n",
       "      <td>...</td>\n",
       "    </tr>\n",
       "    <tr>\n",
       "      <th>247</th>\n",
       "      <td>23.549999</td>\n",
       "      <td>23.680000</td>\n",
       "      <td>23.480000</td>\n",
       "      <td>247200</td>\n",
       "    </tr>\n",
       "    <tr>\n",
       "      <th>248</th>\n",
       "      <td>23.480000</td>\n",
       "      <td>23.620001</td>\n",
       "      <td>23.170000</td>\n",
       "      <td>244900</td>\n",
       "    </tr>\n",
       "    <tr>\n",
       "      <th>249</th>\n",
       "      <td>22.840000</td>\n",
       "      <td>22.990000</td>\n",
       "      <td>22.700001</td>\n",
       "      <td>358500</td>\n",
       "    </tr>\n",
       "    <tr>\n",
       "      <th>250</th>\n",
       "      <td>23.020000</td>\n",
       "      <td>23.150000</td>\n",
       "      <td>22.830000</td>\n",
       "      <td>249100</td>\n",
       "    </tr>\n",
       "    <tr>\n",
       "      <th>251</th>\n",
       "      <td>22.900000</td>\n",
       "      <td>23.030001</td>\n",
       "      <td>22.780001</td>\n",
       "      <td>234727</td>\n",
       "    </tr>\n",
       "  </tbody>\n",
       "</table>\n",
       "<p>236 rows × 4 columns</p>\n",
       "</div>"
      ],
      "text/plain": [
       "          Open       High        Low  Volume\n",
       "0    21.730000  21.850000  21.629999  227500\n",
       "1    22.000000  22.080000  21.940001  254100\n",
       "2    21.940001  22.000000  21.770000  226200\n",
       "3    21.889999  21.940001  21.780001  123300\n",
       "4    21.590000  21.760000  21.510000  178300\n",
       "..         ...        ...        ...     ...\n",
       "247  23.549999  23.680000  23.480000  247200\n",
       "248  23.480000  23.620001  23.170000  244900\n",
       "249  22.840000  22.990000  22.700001  358500\n",
       "250  23.020000  23.150000  22.830000  249100\n",
       "251  22.900000  23.030001  22.780001  234727\n",
       "\n",
       "[236 rows x 4 columns]"
      ]
     },
     "execution_count": 39,
     "metadata": {},
     "output_type": "execute_result"
    }
   ],
   "source": [
    "x=dataset2.drop('Close',axis=1)\n",
    "x"
   ]
  },
  {
   "cell_type": "markdown",
   "metadata": {},
   "source": [
    "# MODEL BUILDING"
   ]
  },
  {
   "cell_type": "code",
   "execution_count": 40,
   "metadata": {},
   "outputs": [],
   "source": [
    "x_train,x_test,y_train,y_test=train_test_split(x,y,test_size=0.2,random_state=0)"
   ]
  },
  {
   "cell_type": "code",
   "execution_count": 41,
   "metadata": {},
   "outputs": [
    {
     "data": {
      "text/html": [
       "<div>\n",
       "<style scoped>\n",
       "    .dataframe tbody tr th:only-of-type {\n",
       "        vertical-align: middle;\n",
       "    }\n",
       "\n",
       "    .dataframe tbody tr th {\n",
       "        vertical-align: top;\n",
       "    }\n",
       "\n",
       "    .dataframe thead th {\n",
       "        text-align: right;\n",
       "    }\n",
       "</style>\n",
       "<table border=\"1\" class=\"dataframe\">\n",
       "  <thead>\n",
       "    <tr style=\"text-align: right;\">\n",
       "      <th></th>\n",
       "      <th>Open</th>\n",
       "      <th>High</th>\n",
       "      <th>Low</th>\n",
       "      <th>Volume</th>\n",
       "    </tr>\n",
       "  </thead>\n",
       "  <tbody>\n",
       "    <tr>\n",
       "      <th>146</th>\n",
       "      <td>24.000000</td>\n",
       "      <td>24.000000</td>\n",
       "      <td>23.430000</td>\n",
       "      <td>485300</td>\n",
       "    </tr>\n",
       "    <tr>\n",
       "      <th>200</th>\n",
       "      <td>24.680000</td>\n",
       "      <td>24.790001</td>\n",
       "      <td>24.580000</td>\n",
       "      <td>272200</td>\n",
       "    </tr>\n",
       "    <tr>\n",
       "      <th>210</th>\n",
       "      <td>24.420000</td>\n",
       "      <td>24.590000</td>\n",
       "      <td>24.350000</td>\n",
       "      <td>520300</td>\n",
       "    </tr>\n",
       "    <tr>\n",
       "      <th>95</th>\n",
       "      <td>24.059999</td>\n",
       "      <td>24.129999</td>\n",
       "      <td>23.930000</td>\n",
       "      <td>300700</td>\n",
       "    </tr>\n",
       "    <tr>\n",
       "      <th>85</th>\n",
       "      <td>22.209999</td>\n",
       "      <td>22.410000</td>\n",
       "      <td>22.110001</td>\n",
       "      <td>264400</td>\n",
       "    </tr>\n",
       "    <tr>\n",
       "      <th>...</th>\n",
       "      <td>...</td>\n",
       "      <td>...</td>\n",
       "      <td>...</td>\n",
       "      <td>...</td>\n",
       "    </tr>\n",
       "    <tr>\n",
       "      <th>69</th>\n",
       "      <td>23.809999</td>\n",
       "      <td>23.850000</td>\n",
       "      <td>23.629999</td>\n",
       "      <td>240000</td>\n",
       "    </tr>\n",
       "    <tr>\n",
       "      <th>205</th>\n",
       "      <td>25.170000</td>\n",
       "      <td>25.219999</td>\n",
       "      <td>25.059999</td>\n",
       "      <td>325200</td>\n",
       "    </tr>\n",
       "    <tr>\n",
       "      <th>122</th>\n",
       "      <td>23.440001</td>\n",
       "      <td>23.480000</td>\n",
       "      <td>23.330000</td>\n",
       "      <td>219900</td>\n",
       "    </tr>\n",
       "    <tr>\n",
       "      <th>49</th>\n",
       "      <td>23.280001</td>\n",
       "      <td>23.350000</td>\n",
       "      <td>23.080000</td>\n",
       "      <td>293700</td>\n",
       "    </tr>\n",
       "    <tr>\n",
       "      <th>185</th>\n",
       "      <td>22.200001</td>\n",
       "      <td>22.200001</td>\n",
       "      <td>21.860001</td>\n",
       "      <td>345100</td>\n",
       "    </tr>\n",
       "  </tbody>\n",
       "</table>\n",
       "<p>188 rows × 4 columns</p>\n",
       "</div>"
      ],
      "text/plain": [
       "          Open       High        Low  Volume\n",
       "146  24.000000  24.000000  23.430000  485300\n",
       "200  24.680000  24.790001  24.580000  272200\n",
       "210  24.420000  24.590000  24.350000  520300\n",
       "95   24.059999  24.129999  23.930000  300700\n",
       "85   22.209999  22.410000  22.110001  264400\n",
       "..         ...        ...        ...     ...\n",
       "69   23.809999  23.850000  23.629999  240000\n",
       "205  25.170000  25.219999  25.059999  325200\n",
       "122  23.440001  23.480000  23.330000  219900\n",
       "49   23.280001  23.350000  23.080000  293700\n",
       "185  22.200001  22.200001  21.860001  345100\n",
       "\n",
       "[188 rows x 4 columns]"
      ]
     },
     "execution_count": 41,
     "metadata": {},
     "output_type": "execute_result"
    }
   ],
   "source": [
    "x_train"
   ]
  },
  {
   "cell_type": "code",
   "execution_count": 42,
   "metadata": {},
   "outputs": [
    {
     "data": {
      "text/plain": [
       "['linear.save']"
      ]
     },
     "execution_count": 42,
     "metadata": {},
     "output_type": "execute_result"
    }
   ],
   "source": [
    "ml=LinearRegression()\n",
    "ml.fit(x_train,y_train)"
   ]
  },
  {
   "cell_type": "code",
   "execution_count": 43,
   "metadata": {},
   "outputs": [],
   "source": [
    "y_pred=ml.predict(x_test)"
   ]
  },
  {
   "cell_type": "code",
   "execution_count": 44,
   "metadata": {},
   "outputs": [
    {
     "data": {
      "text/plain": [
       "array([22.02992228, 25.1014036 , 23.9519055 , 23.36365095, 24.70175568,\n",
       "       24.70626486, 24.15769985, 23.28659842, 22.80314239, 24.41550185,\n",
       "       23.8104174 , 24.45713266, 24.0561914 , 24.0186227 , 22.91949864,\n",
       "       22.42799697, 25.19155343, 23.73059386, 23.88214703, 21.86182924,\n",
       "       23.90452197, 24.65247367, 22.75706806, 21.8885687 , 23.50051774,\n",
       "       23.83360559, 23.78685329, 22.62914899, 23.85993145, 24.56671056,\n",
       "       24.38239036, 23.3642597 , 24.37483574, 23.26764983, 23.12643191,\n",
       "       25.33447904, 22.76565453, 23.9324272 , 23.35374702, 23.06866758,\n",
       "       23.33634048, 23.29913759, 25.03169596, 22.97905404, 23.86356403,\n",
       "       21.78964767, 24.24887004, 22.72655125])"
      ]
     },
     "execution_count": 44,
     "metadata": {},
     "output_type": "execute_result"
    }
   ],
   "source": [
    "y_pred"
   ]
  },
  {
   "cell_type": "code",
   "execution_count": 45,
   "metadata": {},
   "outputs": [
    {
     "data": {
      "text/plain": [
       "186    22.000000\n",
       "160    25.120001\n",
       "111    24.000000\n",
       "116    23.350000\n",
       "130    24.570000\n",
       "239    24.809999\n",
       "127    24.190001\n",
       "192    23.320000\n",
       "47     22.770000\n",
       "216    24.459999\n",
       "123    23.809999\n",
       "217    24.440001\n",
       "221    23.959999\n",
       "105    24.170000\n",
       "251    22.870001\n",
       "165    22.370001\n",
       "199    25.040001\n",
       "113    23.709999\n",
       "197    23.990000\n",
       "8      21.700001\n",
       "57     23.850000\n",
       "93     24.770000\n",
       "91     22.680000\n",
       "5      21.910000\n",
       "23     23.540001\n",
       "39     23.700001\n",
       "147    23.790001\n",
       "13     22.760000\n",
       "114    23.709999\n",
       "140    24.570000\n",
       "233    24.350000\n",
       "121    23.440001\n",
       "231    24.230000\n",
       "195    23.209999\n",
       "46     23.020000\n",
       "158    25.370001\n",
       "180    22.700001\n",
       "220    23.820000\n",
       "76     23.330000\n",
       "100    22.959999\n",
       "73     23.490000\n",
       "19     23.320000\n",
       "157    25.080000\n",
       "16     22.990000\n",
       "65     23.799999\n",
       "7      21.850000\n",
       "154    24.190001\n",
       "182    22.680000\n",
       "Name: Close, dtype: float64"
      ]
     },
     "execution_count": 45,
     "metadata": {},
     "output_type": "execute_result"
    }
   ],
   "source": [
    "y_test"
   ]
  },
  {
   "cell_type": "code",
   "execution_count": 46,
   "metadata": {},
   "outputs": [
    {
     "data": {
      "text/plain": [
       "0.9913123406138128"
      ]
     },
     "execution_count": 46,
     "metadata": {},
     "output_type": "execute_result"
    }
   ],
   "source": [
    "from sklearn.metrics import r2_score\n",
    "l=r2_score(y_test,y_pred)\n",
    "l"
   ]
  },
  {
   "cell_type": "code",
   "execution_count": 47,
   "metadata": {},
   "outputs": [
    {
     "data": {
      "text/plain": [
       "['decision.save']"
      ]
     },
     "execution_count": 47,
     "metadata": {},
     "output_type": "execute_result"
    }
   ],
   "source": [
    "dt=DecisionTreeRegressor(criterion=\"mse\",random_state=0)\n",
    "dt.fit(x_train,y_train)"
   ]
  },
  {
   "cell_type": "code",
   "execution_count": 48,
   "metadata": {},
   "outputs": [],
   "source": [
    "Y_pred=dt.predict(x_test)"
   ]
  },
  {
   "cell_type": "code",
   "execution_count": 49,
   "metadata": {},
   "outputs": [
    {
     "data": {
      "text/plain": [
       "array([22.02992228, 25.1014036 , 23.9519055 , 23.36365095, 24.70175568,\n",
       "       24.70626486, 24.15769985, 23.28659842, 22.80314239, 24.41550185,\n",
       "       23.8104174 , 24.45713266, 24.0561914 , 24.0186227 , 22.91949864,\n",
       "       22.42799697, 25.19155343, 23.73059386, 23.88214703, 21.86182924,\n",
       "       23.90452197, 24.65247367, 22.75706806, 21.8885687 , 23.50051774,\n",
       "       23.83360559, 23.78685329, 22.62914899, 23.85993145, 24.56671056,\n",
       "       24.38239036, 23.3642597 , 24.37483574, 23.26764983, 23.12643191,\n",
       "       25.33447904, 22.76565453, 23.9324272 , 23.35374702, 23.06866758,\n",
       "       23.33634048, 23.29913759, 25.03169596, 22.97905404, 23.86356403,\n",
       "       21.78964767, 24.24887004, 22.72655125])"
      ]
     },
     "execution_count": 49,
     "metadata": {},
     "output_type": "execute_result"
    }
   ],
   "source": [
    "y_pred"
   ]
  },
  {
   "cell_type": "code",
   "execution_count": 50,
   "metadata": {},
   "outputs": [
    {
     "data": {
      "text/plain": [
       "186    22.000000\n",
       "160    25.120001\n",
       "111    24.000000\n",
       "116    23.350000\n",
       "130    24.570000\n",
       "239    24.809999\n",
       "127    24.190001\n",
       "192    23.320000\n",
       "47     22.770000\n",
       "216    24.459999\n",
       "123    23.809999\n",
       "217    24.440001\n",
       "221    23.959999\n",
       "105    24.170000\n",
       "251    22.870001\n",
       "165    22.370001\n",
       "199    25.040001\n",
       "113    23.709999\n",
       "197    23.990000\n",
       "8      21.700001\n",
       "57     23.850000\n",
       "93     24.770000\n",
       "91     22.680000\n",
       "5      21.910000\n",
       "23     23.540001\n",
       "39     23.700001\n",
       "147    23.790001\n",
       "13     22.760000\n",
       "114    23.709999\n",
       "140    24.570000\n",
       "233    24.350000\n",
       "121    23.440001\n",
       "231    24.230000\n",
       "195    23.209999\n",
       "46     23.020000\n",
       "158    25.370001\n",
       "180    22.700001\n",
       "220    23.820000\n",
       "76     23.330000\n",
       "100    22.959999\n",
       "73     23.490000\n",
       "19     23.320000\n",
       "157    25.080000\n",
       "16     22.990000\n",
       "65     23.799999\n",
       "7      21.850000\n",
       "154    24.190001\n",
       "182    22.680000\n",
       "Name: Close, dtype: float64"
      ]
     },
     "execution_count": 50,
     "metadata": {},
     "output_type": "execute_result"
    }
   ],
   "source": [
    "y_test"
   ]
  },
  {
   "cell_type": "code",
   "execution_count": 51,
   "metadata": {},
   "outputs": [],
   "source": [
    "d=r2_score(y_test,y_pred)"
   ]
  },
  {
   "cell_type": "code",
   "execution_count": 52,
   "metadata": {},
   "outputs": [],
   "source": [
    "rf=RandomForestRegressor(n_estimators=100,criterion=\"mae\",random_state=0)"
   ]
  },
  {
   "cell_type": "code",
   "execution_count": 53,
   "metadata": {},
   "outputs": [
    {
     "data": {
      "text/plain": [
       "['random.save']"
      ]
     },
     "execution_count": 53,
     "metadata": {},
     "output_type": "execute_result"
    }
   ],
   "source": [
    "rf.fit(x_train,y_train)"
   ]
  },
  {
   "cell_type": "code",
   "execution_count": 54,
   "metadata": {},
   "outputs": [],
   "source": [
    "y_pred=rf.predict(x_test)"
   ]
  },
  {
   "cell_type": "code",
   "execution_count": 55,
   "metadata": {},
   "outputs": [
    {
     "data": {
      "text/plain": [
       "array([22.11630032, 25.16040014, 23.95169989, 23.27480027, 24.71835001,\n",
       "       24.68064991, 24.16059965, 23.25049995, 22.83990012, 24.45239993,\n",
       "       23.79940006, 24.41109958, 24.07119995, 24.02380003, 22.91689956,\n",
       "       22.4271002 , 25.1589001 , 23.74639996, 23.92209991, 21.82999952,\n",
       "       23.86980014, 24.76745042, 22.84289985, 21.89529985, 23.494     ,\n",
       "       23.8244003 , 23.73859965, 22.64509963, 23.8331    , 24.5194997 ,\n",
       "       24.37779978, 23.28100033, 24.29069985, 23.15989955, 23.27899964,\n",
       "       25.15320024, 22.73950039, 23.96569998, 23.2973001 , 23.11820001,\n",
       "       23.39080003, 23.30660019, 25.01669941, 22.95689949, 23.85499994,\n",
       "       21.75989919, 24.16609972, 22.8179997 ])"
      ]
     },
     "execution_count": 55,
     "metadata": {},
     "output_type": "execute_result"
    }
   ],
   "source": [
    "y_pred"
   ]
  },
  {
   "cell_type": "code",
   "execution_count": 56,
   "metadata": {},
   "outputs": [
    {
     "data": {
      "text/plain": [
       "186    22.000000\n",
       "160    25.120001\n",
       "111    24.000000\n",
       "116    23.350000\n",
       "130    24.570000\n",
       "239    24.809999\n",
       "127    24.190001\n",
       "192    23.320000\n",
       "47     22.770000\n",
       "216    24.459999\n",
       "123    23.809999\n",
       "217    24.440001\n",
       "221    23.959999\n",
       "105    24.170000\n",
       "251    22.870001\n",
       "165    22.370001\n",
       "199    25.040001\n",
       "113    23.709999\n",
       "197    23.990000\n",
       "8      21.700001\n",
       "57     23.850000\n",
       "93     24.770000\n",
       "91     22.680000\n",
       "5      21.910000\n",
       "23     23.540001\n",
       "39     23.700001\n",
       "147    23.790001\n",
       "13     22.760000\n",
       "114    23.709999\n",
       "140    24.570000\n",
       "233    24.350000\n",
       "121    23.440001\n",
       "231    24.230000\n",
       "195    23.209999\n",
       "46     23.020000\n",
       "158    25.370001\n",
       "180    22.700001\n",
       "220    23.820000\n",
       "76     23.330000\n",
       "100    22.959999\n",
       "73     23.490000\n",
       "19     23.320000\n",
       "157    25.080000\n",
       "16     22.990000\n",
       "65     23.799999\n",
       "7      21.850000\n",
       "154    24.190001\n",
       "182    22.680000\n",
       "Name: Close, dtype: float64"
      ]
     },
     "execution_count": 56,
     "metadata": {},
     "output_type": "execute_result"
    }
   ],
   "source": [
    "y_test"
   ]
  },
  {
   "cell_type": "code",
   "execution_count": 57,
   "metadata": {},
   "outputs": [
    {
     "data": {
      "text/plain": [
       "0.9877123486062651"
      ]
     },
     "execution_count": 57,
     "metadata": {},
     "output_type": "execute_result"
    }
   ],
   "source": [
    "r=r2_score(y_test,y_pred)\n",
    "r"
   ]
  }
 ],
 "metadata": {
  "celltoolbar": "Tags",
  "kernelspec": {
   "display_name": "Python 3",
   "language": "python",
   "name": "python3"
  },
  "language_info": {
   "codemirror_mode": {
    "name": "ipython",
    "version": 3
   },
   "file_extension": ".py",
   "mimetype": "text/x-python",
   "name": "python",
   "nbconvert_exporter": "python",
   "pygments_lexer": "ipython3",
   "version": "3.7.6"
  }
 },
 "nbformat": 4,
 "nbformat_minor": 4
}
